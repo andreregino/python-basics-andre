{
 "cells": [
  {
   "cell_type": "markdown",
   "metadata": {},
   "source": [
    "# Listas"
   ]
  },
  {
   "cell_type": "code",
   "execution_count": 3,
   "metadata": {},
   "outputs": [
    {
     "name": "stdout",
     "output_type": "stream",
     "text": [
      "Palavra em formato string: Unicamp\n",
      "Palavra transformada em lista de caracteres\n",
      "['U', 'n', 'i', 'c', 'a', 'm', 'p']\n"
     ]
    }
   ],
   "source": [
    "# transformar string em lista de caracteres\n",
    "word = \"Unicamp\"\n",
    "print(\"Palavra em formato string: \" + word)\n",
    "print(\"Palavra transformada em lista de caracteres\")\n",
    "print(list(word))"
   ]
  },
  {
   "cell_type": "markdown",
   "metadata": {},
   "source": [
    "## CRUD"
   ]
  },
  {
   "cell_type": "code",
   "execution_count": 5,
   "metadata": {},
   "outputs": [
    {
     "name": "stdout",
     "output_type": "stream",
     "text": [
      "Lista antes da inserção\n",
      "['A', 'B', 'C', 'D']\n",
      "Lista depois da inserção\n",
      "['A', 'B', 'C', 'D', 'E']\n"
     ]
    }
   ],
   "source": [
    "# Adicionar\n",
    "nomes = [\"A\", \"B\", \"C\", \"D\"]\n",
    "print(\"Lista antes da inserção\")\n",
    "print(nomes)\n",
    "nomes.append(\"E\")\n",
    "print(\"Lista depois da inserção\")\n",
    "print(nomes)"
   ]
  },
  {
   "cell_type": "code",
   "execution_count": 7,
   "metadata": {},
   "outputs": [
    {
     "name": "stdout",
     "output_type": "stream",
     "text": [
      "Lista depois da remoção\n",
      "['B', 'C', 'D', 'E']\n"
     ]
    }
   ],
   "source": [
    "# Remover\n",
    "nomes.remove(\"A\")\n",
    "print(\"Lista depois da remoção\")\n",
    "print(nomes)"
   ]
  },
  {
   "cell_type": "code",
   "execution_count": 9,
   "metadata": {},
   "outputs": [
    {
     "name": "stdout",
     "output_type": "stream",
     "text": [
      "Índice de elemento específico da lista\n",
      "Index de 'C': 1\n"
     ]
    }
   ],
   "source": [
    "# Leitura \n",
    "print(\"Índice de elemento específico da lista\")\n",
    "print(\"Index de 'C': \" + str(nomes.index(\"C\")))"
   ]
  }
 ],
 "metadata": {
  "kernelspec": {
   "display_name": "Python 3",
   "language": "python",
   "name": "python3"
  },
  "language_info": {
   "codemirror_mode": {
    "name": "ipython",
    "version": 3
   },
   "file_extension": ".py",
   "mimetype": "text/x-python",
   "name": "python",
   "nbconvert_exporter": "python",
   "pygments_lexer": "ipython3",
   "version": "3.7.4"
  }
 },
 "nbformat": 4,
 "nbformat_minor": 2
}
